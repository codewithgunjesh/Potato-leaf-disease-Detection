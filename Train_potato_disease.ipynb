{
 "cells": [
  {
   "cell_type": "code",
   "execution_count": 2,
   "metadata": {
    "vscode": {
     "languageId": "plaintext"
    }
   },
   "outputs": [],
   "source": [
    "import tensorflow as tf \n",
    "import matplotlib.pyplot as plt"
   ]
  },
  {
   "cell_type": "code",
   "execution_count": 3,
   "metadata": {},
   "outputs": [
    {
     "name": "stdout",
     "output_type": "stream",
     "text": [
      "Current dir:  J:\\ML\\Aicte-Leaf-Disease\n",
      "J:\\ML\\Aicte-Leaf-Disease\\datasets\\Train\n",
      "J:\\ML\\Aicte-Leaf-Disease\\datasets\\Test\n",
      "J:\\ML\\Aicte-Leaf-Disease\\datasets\\Valid\n"
     ]
    }
   ],
   "source": [
    "# saving the current directory path\n",
    "import os\n",
    "print(\"Current dir: \", os.getcwd())\n",
    "curr_dir = os.getcwd()\n",
    "\n",
    "train_path = os.path.join(curr_dir, \"datasets\", \"Train\")\n",
    "test_path = os.path.join(curr_dir, \"datasets\", \"Test\")\n",
    "valid_path = os.path.join(curr_dir, \"datasets\", \"Valid\")\n",
    "print(train_path)\n",
    "print(test_path)\n",
    "print(valid_path)"
   ]
  },
  {
   "cell_type": "code",
   "execution_count": 4,
   "metadata": {},
   "outputs": [
    {
     "name": "stdout",
     "output_type": "stream",
     "text": [
      "Found 900 files belonging to 3 classes.\n"
     ]
    }
   ],
   "source": [
    "training_set = tf.keras.utils.image_dataset_from_directory(\n",
    "    train_path,\n",
    "    labels = \"inferred\",\n",
    "    label_mode = \"categorical\", #OHE\n",
    "    color_mode = \"rgb\",\n",
    "    image_size = (128, 128),\n",
    "    shuffle = True, \n",
    "    interpolation = \"bilinear\", # for resizing image\n",
    ")\n",
    "\n",
    "# because TensorFlow assigns labels based on alphabetical order of the subdirectory names when you use labels=\"inferred\".\n",
    "\n",
    "# Potato__Early_blight: 0\n",
    "# First letter: E\n",
    "# ASCII value of E = 69\n",
    "\n",
    "# Potato__Late_blight: 1\n",
    "# First letter: L\n",
    "# ASCII value of L = 76\n",
    "\n",
    "# Potato__healthy: 2\n",
    "# First letter: h\n",
    "# ASCII value of h = 104"
   ]
  },
  {
   "cell_type": "code",
   "execution_count": 5,
   "metadata": {},
   "outputs": [
    {
     "data": {
      "text/plain": [
       "['Potato___Early_blight', 'Potato___Late_blight', 'Potato___healthy']"
      ]
     },
     "execution_count": 5,
     "metadata": {},
     "output_type": "execute_result"
    }
   ],
   "source": [
    "training_set.class_names"
   ]
  },
  {
   "cell_type": "code",
   "execution_count": 6,
   "metadata": {},
   "outputs": [
    {
     "name": "stdout",
     "output_type": "stream",
     "text": [
      "Found 300 files belonging to 3 classes.\n"
     ]
    }
   ],
   "source": [
    "validation_set = tf.keras.utils.image_dataset_from_directory(\n",
    "    valid_path,\n",
    "    labels = \"inferred\",\n",
    "    label_mode = \"categorical\",\n",
    "    color_mode = \"rgb\",\n",
    "    image_size = (128, 128),\n",
    "    shuffle = True,\n",
    "    interpolation = \"bilinear\",\n",
    ")"
   ]
  },
  {
   "cell_type": "code",
   "execution_count": 7,
   "metadata": {},
   "outputs": [],
   "source": [
    "from tensorflow import keras\n",
    "from keras.models import Sequential\n",
    "from keras.layers import Conv2D, MaxPool2D, Dropout, Flatten, Dense, Input"
   ]
  },
  {
   "cell_type": "code",
   "execution_count": 9,
   "metadata": {},
   "outputs": [],
   "source": [
    "# CNN Model\n",
    "model = Sequential()\n",
    "model.add(Input(shape=(128, 128, 3)))\n",
    "model.add(Conv2D(filters = 32, kernel_size = 3, padding = 'same', activation = \"relu\"))\n",
    "model.add(Conv2D(filters = 32, kernel_size = 3, activation = \"relu\"))\n",
    "model.add(MaxPool2D(pool_size = 2, strides = 2))\n",
    "\n",
    "model.add(Conv2D(filters = 64, kernel_size = 3, padding = 'same', activation = \"relu\"))\n",
    "model.add(Conv2D(filters = 64, kernel_size = 3, activation = \"relu\"))\n",
    "model.add(MaxPool2D(pool_size = 2, strides = 2))\n",
    "\n",
    "model.add(Conv2D(filters = 128, kernel_size = 3, padding = 'same', activation = \"relu\"))\n",
    "model.add(Conv2D(filters = 128, kernel_size = 3, activation = \"relu\"))\n",
    "model.add(MaxPool2D(pool_size = 2, strides = 2))\n",
    "\n",
    "model.add(Conv2D(filters = 256, kernel_size = 3, padding = 'same', activation = \"relu\"))\n",
    "model.add(Conv2D(filters = 256, kernel_size = 3, activation = \"relu\"))\n",
    "model.add(MaxPool2D(pool_size = 2, strides = 2))\n",
    "          \n",
    "model.add(Conv2D(filters = 512, kernel_size = 3, padding = 'same', activation = \"relu\"))\n",
    "model.add(Conv2D(filters = 512, kernel_size = 3, activation = \"relu\"))\n",
    "model.add(MaxPool2D(pool_size = 2, strides = 2))\n",
    "\n",
    "model.add(Dropout(0.25))\n",
    "\n",
    "# Flatten 3d to 1d\n",
    "model.add(Flatten())\n",
    "model.add(Dense(units = 1500, activation = \"relu\"))\n",
    "model.add(Dropout(0.4))\n",
    "model.add(Dense(units = 3, activation = \"softmax\"))"
   ]
  },
  {
   "cell_type": "code",
   "execution_count": 10,
   "metadata": {},
   "outputs": [],
   "source": [
    "from keras.optimizers import Adam\n",
    "\n",
    "model.compile(optimizer = Adam(learning_rate=0.0001), loss = \"categorical_crossentropy\", metrics = [\"accuracy\"])"
   ]
  },
  {
   "cell_type": "code",
   "execution_count": 11,
   "metadata": {},
   "outputs": [
    {
     "data": {
      "text/html": [
       "<pre style=\"white-space:pre;overflow-x:auto;line-height:normal;font-family:Menlo,'DejaVu Sans Mono',consolas,'Courier New',monospace\"><span style=\"font-weight: bold\">Model: \"sequential_1\"</span>\n",
       "</pre>\n"
      ],
      "text/plain": [
       "\u001b[1mModel: \"sequential_1\"\u001b[0m\n"
      ]
     },
     "metadata": {},
     "output_type": "display_data"
    },
    {
     "data": {
      "text/html": [
       "<pre style=\"white-space:pre;overflow-x:auto;line-height:normal;font-family:Menlo,'DejaVu Sans Mono',consolas,'Courier New',monospace\">┏━━━━━━━━━━━━━━━━━━━━━━┳━━━━━━━━━━━━━━━━━┳━━━━━━━━━━┓\n",
       "┃<span style=\"font-weight: bold\"> Layer (type)         </span>┃<span style=\"font-weight: bold\"> Output Shape    </span>┃<span style=\"font-weight: bold\">  Param # </span>┃\n",
       "┡━━━━━━━━━━━━━━━━━━━━━━╇━━━━━━━━━━━━━━━━━╇━━━━━━━━━━┩\n",
       "│ conv2d_10 (<span style=\"color: #0087ff; text-decoration-color: #0087ff\">Conv2D</span>)   │ (<span style=\"color: #00d7ff; text-decoration-color: #00d7ff\">None</span>, <span style=\"color: #00af00; text-decoration-color: #00af00\">128</span>,     │      <span style=\"color: #00af00; text-decoration-color: #00af00\">896</span> │\n",
       "│                      │ <span style=\"color: #00af00; text-decoration-color: #00af00\">128</span>, <span style=\"color: #00af00; text-decoration-color: #00af00\">32</span>)        │          │\n",
       "├──────────────────────┼─────────────────┼──────────┤\n",
       "│ conv2d_11 (<span style=\"color: #0087ff; text-decoration-color: #0087ff\">Conv2D</span>)   │ (<span style=\"color: #00d7ff; text-decoration-color: #00d7ff\">None</span>, <span style=\"color: #00af00; text-decoration-color: #00af00\">126</span>,     │    <span style=\"color: #00af00; text-decoration-color: #00af00\">9,248</span> │\n",
       "│                      │ <span style=\"color: #00af00; text-decoration-color: #00af00\">126</span>, <span style=\"color: #00af00; text-decoration-color: #00af00\">32</span>)        │          │\n",
       "├──────────────────────┼─────────────────┼──────────┤\n",
       "│ max_pooling2d_5      │ (<span style=\"color: #00d7ff; text-decoration-color: #00d7ff\">None</span>, <span style=\"color: #00af00; text-decoration-color: #00af00\">63</span>, <span style=\"color: #00af00; text-decoration-color: #00af00\">63</span>,  │        <span style=\"color: #00af00; text-decoration-color: #00af00\">0</span> │\n",
       "│ (<span style=\"color: #0087ff; text-decoration-color: #0087ff\">MaxPooling2D</span>)       │ <span style=\"color: #00af00; text-decoration-color: #00af00\">32</span>)             │          │\n",
       "├──────────────────────┼─────────────────┼──────────┤\n",
       "│ conv2d_12 (<span style=\"color: #0087ff; text-decoration-color: #0087ff\">Conv2D</span>)   │ (<span style=\"color: #00d7ff; text-decoration-color: #00d7ff\">None</span>, <span style=\"color: #00af00; text-decoration-color: #00af00\">63</span>, <span style=\"color: #00af00; text-decoration-color: #00af00\">63</span>,  │   <span style=\"color: #00af00; text-decoration-color: #00af00\">18,496</span> │\n",
       "│                      │ <span style=\"color: #00af00; text-decoration-color: #00af00\">64</span>)             │          │\n",
       "├──────────────────────┼─────────────────┼──────────┤\n",
       "│ conv2d_13 (<span style=\"color: #0087ff; text-decoration-color: #0087ff\">Conv2D</span>)   │ (<span style=\"color: #00d7ff; text-decoration-color: #00d7ff\">None</span>, <span style=\"color: #00af00; text-decoration-color: #00af00\">61</span>, <span style=\"color: #00af00; text-decoration-color: #00af00\">61</span>,  │   <span style=\"color: #00af00; text-decoration-color: #00af00\">36,928</span> │\n",
       "│                      │ <span style=\"color: #00af00; text-decoration-color: #00af00\">64</span>)             │          │\n",
       "├──────────────────────┼─────────────────┼──────────┤\n",
       "│ max_pooling2d_6      │ (<span style=\"color: #00d7ff; text-decoration-color: #00d7ff\">None</span>, <span style=\"color: #00af00; text-decoration-color: #00af00\">30</span>, <span style=\"color: #00af00; text-decoration-color: #00af00\">30</span>,  │        <span style=\"color: #00af00; text-decoration-color: #00af00\">0</span> │\n",
       "│ (<span style=\"color: #0087ff; text-decoration-color: #0087ff\">MaxPooling2D</span>)       │ <span style=\"color: #00af00; text-decoration-color: #00af00\">64</span>)             │          │\n",
       "├──────────────────────┼─────────────────┼──────────┤\n",
       "│ conv2d_14 (<span style=\"color: #0087ff; text-decoration-color: #0087ff\">Conv2D</span>)   │ (<span style=\"color: #00d7ff; text-decoration-color: #00d7ff\">None</span>, <span style=\"color: #00af00; text-decoration-color: #00af00\">30</span>, <span style=\"color: #00af00; text-decoration-color: #00af00\">30</span>,  │   <span style=\"color: #00af00; text-decoration-color: #00af00\">73,856</span> │\n",
       "│                      │ <span style=\"color: #00af00; text-decoration-color: #00af00\">128</span>)            │          │\n",
       "├──────────────────────┼─────────────────┼──────────┤\n",
       "│ conv2d_15 (<span style=\"color: #0087ff; text-decoration-color: #0087ff\">Conv2D</span>)   │ (<span style=\"color: #00d7ff; text-decoration-color: #00d7ff\">None</span>, <span style=\"color: #00af00; text-decoration-color: #00af00\">28</span>, <span style=\"color: #00af00; text-decoration-color: #00af00\">28</span>,  │  <span style=\"color: #00af00; text-decoration-color: #00af00\">147,584</span> │\n",
       "│                      │ <span style=\"color: #00af00; text-decoration-color: #00af00\">128</span>)            │          │\n",
       "├──────────────────────┼─────────────────┼──────────┤\n",
       "│ max_pooling2d_7      │ (<span style=\"color: #00d7ff; text-decoration-color: #00d7ff\">None</span>, <span style=\"color: #00af00; text-decoration-color: #00af00\">14</span>, <span style=\"color: #00af00; text-decoration-color: #00af00\">14</span>,  │        <span style=\"color: #00af00; text-decoration-color: #00af00\">0</span> │\n",
       "│ (<span style=\"color: #0087ff; text-decoration-color: #0087ff\">MaxPooling2D</span>)       │ <span style=\"color: #00af00; text-decoration-color: #00af00\">128</span>)            │          │\n",
       "├──────────────────────┼─────────────────┼──────────┤\n",
       "│ conv2d_16 (<span style=\"color: #0087ff; text-decoration-color: #0087ff\">Conv2D</span>)   │ (<span style=\"color: #00d7ff; text-decoration-color: #00d7ff\">None</span>, <span style=\"color: #00af00; text-decoration-color: #00af00\">14</span>, <span style=\"color: #00af00; text-decoration-color: #00af00\">14</span>,  │  <span style=\"color: #00af00; text-decoration-color: #00af00\">295,168</span> │\n",
       "│                      │ <span style=\"color: #00af00; text-decoration-color: #00af00\">256</span>)            │          │\n",
       "├──────────────────────┼─────────────────┼──────────┤\n",
       "│ conv2d_17 (<span style=\"color: #0087ff; text-decoration-color: #0087ff\">Conv2D</span>)   │ (<span style=\"color: #00d7ff; text-decoration-color: #00d7ff\">None</span>, <span style=\"color: #00af00; text-decoration-color: #00af00\">12</span>, <span style=\"color: #00af00; text-decoration-color: #00af00\">12</span>,  │  <span style=\"color: #00af00; text-decoration-color: #00af00\">590,080</span> │\n",
       "│                      │ <span style=\"color: #00af00; text-decoration-color: #00af00\">256</span>)            │          │\n",
       "├──────────────────────┼─────────────────┼──────────┤\n",
       "│ max_pooling2d_8      │ (<span style=\"color: #00d7ff; text-decoration-color: #00d7ff\">None</span>, <span style=\"color: #00af00; text-decoration-color: #00af00\">6</span>, <span style=\"color: #00af00; text-decoration-color: #00af00\">6</span>,    │        <span style=\"color: #00af00; text-decoration-color: #00af00\">0</span> │\n",
       "│ (<span style=\"color: #0087ff; text-decoration-color: #0087ff\">MaxPooling2D</span>)       │ <span style=\"color: #00af00; text-decoration-color: #00af00\">256</span>)            │          │\n",
       "├──────────────────────┼─────────────────┼──────────┤\n",
       "│ conv2d_18 (<span style=\"color: #0087ff; text-decoration-color: #0087ff\">Conv2D</span>)   │ (<span style=\"color: #00d7ff; text-decoration-color: #00d7ff\">None</span>, <span style=\"color: #00af00; text-decoration-color: #00af00\">6</span>, <span style=\"color: #00af00; text-decoration-color: #00af00\">6</span>,    │ <span style=\"color: #00af00; text-decoration-color: #00af00\">1,180,1…</span> │\n",
       "│                      │ <span style=\"color: #00af00; text-decoration-color: #00af00\">512</span>)            │          │\n",
       "├──────────────────────┼─────────────────┼──────────┤\n",
       "│ conv2d_19 (<span style=\"color: #0087ff; text-decoration-color: #0087ff\">Conv2D</span>)   │ (<span style=\"color: #00d7ff; text-decoration-color: #00d7ff\">None</span>, <span style=\"color: #00af00; text-decoration-color: #00af00\">4</span>, <span style=\"color: #00af00; text-decoration-color: #00af00\">4</span>,    │ <span style=\"color: #00af00; text-decoration-color: #00af00\">2,359,8…</span> │\n",
       "│                      │ <span style=\"color: #00af00; text-decoration-color: #00af00\">512</span>)            │          │\n",
       "├──────────────────────┼─────────────────┼──────────┤\n",
       "│ max_pooling2d_9      │ (<span style=\"color: #00d7ff; text-decoration-color: #00d7ff\">None</span>, <span style=\"color: #00af00; text-decoration-color: #00af00\">2</span>, <span style=\"color: #00af00; text-decoration-color: #00af00\">2</span>,    │        <span style=\"color: #00af00; text-decoration-color: #00af00\">0</span> │\n",
       "│ (<span style=\"color: #0087ff; text-decoration-color: #0087ff\">MaxPooling2D</span>)       │ <span style=\"color: #00af00; text-decoration-color: #00af00\">512</span>)            │          │\n",
       "├──────────────────────┼─────────────────┼──────────┤\n",
       "│ dropout_2 (<span style=\"color: #0087ff; text-decoration-color: #0087ff\">Dropout</span>)  │ (<span style=\"color: #00d7ff; text-decoration-color: #00d7ff\">None</span>, <span style=\"color: #00af00; text-decoration-color: #00af00\">2</span>, <span style=\"color: #00af00; text-decoration-color: #00af00\">2</span>,    │        <span style=\"color: #00af00; text-decoration-color: #00af00\">0</span> │\n",
       "│                      │ <span style=\"color: #00af00; text-decoration-color: #00af00\">512</span>)            │          │\n",
       "├──────────────────────┼─────────────────┼──────────┤\n",
       "│ flatten_1 (<span style=\"color: #0087ff; text-decoration-color: #0087ff\">Flatten</span>)  │ (<span style=\"color: #00d7ff; text-decoration-color: #00d7ff\">None</span>, <span style=\"color: #00af00; text-decoration-color: #00af00\">2048</span>)    │        <span style=\"color: #00af00; text-decoration-color: #00af00\">0</span> │\n",
       "├──────────────────────┼─────────────────┼──────────┤\n",
       "│ dense_2 (<span style=\"color: #0087ff; text-decoration-color: #0087ff\">Dense</span>)      │ (<span style=\"color: #00d7ff; text-decoration-color: #00d7ff\">None</span>, <span style=\"color: #00af00; text-decoration-color: #00af00\">1500</span>)    │ <span style=\"color: #00af00; text-decoration-color: #00af00\">3,073,5…</span> │\n",
       "├──────────────────────┼─────────────────┼──────────┤\n",
       "│ dropout_3 (<span style=\"color: #0087ff; text-decoration-color: #0087ff\">Dropout</span>)  │ (<span style=\"color: #00d7ff; text-decoration-color: #00d7ff\">None</span>, <span style=\"color: #00af00; text-decoration-color: #00af00\">1500</span>)    │        <span style=\"color: #00af00; text-decoration-color: #00af00\">0</span> │\n",
       "├──────────────────────┼─────────────────┼──────────┤\n",
       "│ dense_3 (<span style=\"color: #0087ff; text-decoration-color: #0087ff\">Dense</span>)      │ (<span style=\"color: #00d7ff; text-decoration-color: #00d7ff\">None</span>, <span style=\"color: #00af00; text-decoration-color: #00af00\">3</span>)       │    <span style=\"color: #00af00; text-decoration-color: #00af00\">4,503</span> │\n",
       "└──────────────────────┴─────────────────┴──────────┘\n",
       "</pre>\n"
      ],
      "text/plain": [
       "┏━━━━━━━━━━━━━━━━━━━━━━┳━━━━━━━━━━━━━━━━━┳━━━━━━━━━━┓\n",
       "┃\u001b[1m \u001b[0m\u001b[1mLayer (type)        \u001b[0m\u001b[1m \u001b[0m┃\u001b[1m \u001b[0m\u001b[1mOutput Shape   \u001b[0m\u001b[1m \u001b[0m┃\u001b[1m \u001b[0m\u001b[1m Param #\u001b[0m\u001b[1m \u001b[0m┃\n",
       "┡━━━━━━━━━━━━━━━━━━━━━━╇━━━━━━━━━━━━━━━━━╇━━━━━━━━━━┩\n",
       "│ conv2d_10 (\u001b[38;5;33mConv2D\u001b[0m)   │ (\u001b[38;5;45mNone\u001b[0m, \u001b[38;5;34m128\u001b[0m,     │      \u001b[38;5;34m896\u001b[0m │\n",
       "│                      │ \u001b[38;5;34m128\u001b[0m, \u001b[38;5;34m32\u001b[0m)        │          │\n",
       "├──────────────────────┼─────────────────┼──────────┤\n",
       "│ conv2d_11 (\u001b[38;5;33mConv2D\u001b[0m)   │ (\u001b[38;5;45mNone\u001b[0m, \u001b[38;5;34m126\u001b[0m,     │    \u001b[38;5;34m9,248\u001b[0m │\n",
       "│                      │ \u001b[38;5;34m126\u001b[0m, \u001b[38;5;34m32\u001b[0m)        │          │\n",
       "├──────────────────────┼─────────────────┼──────────┤\n",
       "│ max_pooling2d_5      │ (\u001b[38;5;45mNone\u001b[0m, \u001b[38;5;34m63\u001b[0m, \u001b[38;5;34m63\u001b[0m,  │        \u001b[38;5;34m0\u001b[0m │\n",
       "│ (\u001b[38;5;33mMaxPooling2D\u001b[0m)       │ \u001b[38;5;34m32\u001b[0m)             │          │\n",
       "├──────────────────────┼─────────────────┼──────────┤\n",
       "│ conv2d_12 (\u001b[38;5;33mConv2D\u001b[0m)   │ (\u001b[38;5;45mNone\u001b[0m, \u001b[38;5;34m63\u001b[0m, \u001b[38;5;34m63\u001b[0m,  │   \u001b[38;5;34m18,496\u001b[0m │\n",
       "│                      │ \u001b[38;5;34m64\u001b[0m)             │          │\n",
       "├──────────────────────┼─────────────────┼──────────┤\n",
       "│ conv2d_13 (\u001b[38;5;33mConv2D\u001b[0m)   │ (\u001b[38;5;45mNone\u001b[0m, \u001b[38;5;34m61\u001b[0m, \u001b[38;5;34m61\u001b[0m,  │   \u001b[38;5;34m36,928\u001b[0m │\n",
       "│                      │ \u001b[38;5;34m64\u001b[0m)             │          │\n",
       "├──────────────────────┼─────────────────┼──────────┤\n",
       "│ max_pooling2d_6      │ (\u001b[38;5;45mNone\u001b[0m, \u001b[38;5;34m30\u001b[0m, \u001b[38;5;34m30\u001b[0m,  │        \u001b[38;5;34m0\u001b[0m │\n",
       "│ (\u001b[38;5;33mMaxPooling2D\u001b[0m)       │ \u001b[38;5;34m64\u001b[0m)             │          │\n",
       "├──────────────────────┼─────────────────┼──────────┤\n",
       "│ conv2d_14 (\u001b[38;5;33mConv2D\u001b[0m)   │ (\u001b[38;5;45mNone\u001b[0m, \u001b[38;5;34m30\u001b[0m, \u001b[38;5;34m30\u001b[0m,  │   \u001b[38;5;34m73,856\u001b[0m │\n",
       "│                      │ \u001b[38;5;34m128\u001b[0m)            │          │\n",
       "├──────────────────────┼─────────────────┼──────────┤\n",
       "│ conv2d_15 (\u001b[38;5;33mConv2D\u001b[0m)   │ (\u001b[38;5;45mNone\u001b[0m, \u001b[38;5;34m28\u001b[0m, \u001b[38;5;34m28\u001b[0m,  │  \u001b[38;5;34m147,584\u001b[0m │\n",
       "│                      │ \u001b[38;5;34m128\u001b[0m)            │          │\n",
       "├──────────────────────┼─────────────────┼──────────┤\n",
       "│ max_pooling2d_7      │ (\u001b[38;5;45mNone\u001b[0m, \u001b[38;5;34m14\u001b[0m, \u001b[38;5;34m14\u001b[0m,  │        \u001b[38;5;34m0\u001b[0m │\n",
       "│ (\u001b[38;5;33mMaxPooling2D\u001b[0m)       │ \u001b[38;5;34m128\u001b[0m)            │          │\n",
       "├──────────────────────┼─────────────────┼──────────┤\n",
       "│ conv2d_16 (\u001b[38;5;33mConv2D\u001b[0m)   │ (\u001b[38;5;45mNone\u001b[0m, \u001b[38;5;34m14\u001b[0m, \u001b[38;5;34m14\u001b[0m,  │  \u001b[38;5;34m295,168\u001b[0m │\n",
       "│                      │ \u001b[38;5;34m256\u001b[0m)            │          │\n",
       "├──────────────────────┼─────────────────┼──────────┤\n",
       "│ conv2d_17 (\u001b[38;5;33mConv2D\u001b[0m)   │ (\u001b[38;5;45mNone\u001b[0m, \u001b[38;5;34m12\u001b[0m, \u001b[38;5;34m12\u001b[0m,  │  \u001b[38;5;34m590,080\u001b[0m │\n",
       "│                      │ \u001b[38;5;34m256\u001b[0m)            │          │\n",
       "├──────────────────────┼─────────────────┼──────────┤\n",
       "│ max_pooling2d_8      │ (\u001b[38;5;45mNone\u001b[0m, \u001b[38;5;34m6\u001b[0m, \u001b[38;5;34m6\u001b[0m,    │        \u001b[38;5;34m0\u001b[0m │\n",
       "│ (\u001b[38;5;33mMaxPooling2D\u001b[0m)       │ \u001b[38;5;34m256\u001b[0m)            │          │\n",
       "├──────────────────────┼─────────────────┼──────────┤\n",
       "│ conv2d_18 (\u001b[38;5;33mConv2D\u001b[0m)   │ (\u001b[38;5;45mNone\u001b[0m, \u001b[38;5;34m6\u001b[0m, \u001b[38;5;34m6\u001b[0m,    │ \u001b[38;5;34m1,180,1…\u001b[0m │\n",
       "│                      │ \u001b[38;5;34m512\u001b[0m)            │          │\n",
       "├──────────────────────┼─────────────────┼──────────┤\n",
       "│ conv2d_19 (\u001b[38;5;33mConv2D\u001b[0m)   │ (\u001b[38;5;45mNone\u001b[0m, \u001b[38;5;34m4\u001b[0m, \u001b[38;5;34m4\u001b[0m,    │ \u001b[38;5;34m2,359,8…\u001b[0m │\n",
       "│                      │ \u001b[38;5;34m512\u001b[0m)            │          │\n",
       "├──────────────────────┼─────────────────┼──────────┤\n",
       "│ max_pooling2d_9      │ (\u001b[38;5;45mNone\u001b[0m, \u001b[38;5;34m2\u001b[0m, \u001b[38;5;34m2\u001b[0m,    │        \u001b[38;5;34m0\u001b[0m │\n",
       "│ (\u001b[38;5;33mMaxPooling2D\u001b[0m)       │ \u001b[38;5;34m512\u001b[0m)            │          │\n",
       "├──────────────────────┼─────────────────┼──────────┤\n",
       "│ dropout_2 (\u001b[38;5;33mDropout\u001b[0m)  │ (\u001b[38;5;45mNone\u001b[0m, \u001b[38;5;34m2\u001b[0m, \u001b[38;5;34m2\u001b[0m,    │        \u001b[38;5;34m0\u001b[0m │\n",
       "│                      │ \u001b[38;5;34m512\u001b[0m)            │          │\n",
       "├──────────────────────┼─────────────────┼──────────┤\n",
       "│ flatten_1 (\u001b[38;5;33mFlatten\u001b[0m)  │ (\u001b[38;5;45mNone\u001b[0m, \u001b[38;5;34m2048\u001b[0m)    │        \u001b[38;5;34m0\u001b[0m │\n",
       "├──────────────────────┼─────────────────┼──────────┤\n",
       "│ dense_2 (\u001b[38;5;33mDense\u001b[0m)      │ (\u001b[38;5;45mNone\u001b[0m, \u001b[38;5;34m1500\u001b[0m)    │ \u001b[38;5;34m3,073,5…\u001b[0m │\n",
       "├──────────────────────┼─────────────────┼──────────┤\n",
       "│ dropout_3 (\u001b[38;5;33mDropout\u001b[0m)  │ (\u001b[38;5;45mNone\u001b[0m, \u001b[38;5;34m1500\u001b[0m)    │        \u001b[38;5;34m0\u001b[0m │\n",
       "├──────────────────────┼─────────────────┼──────────┤\n",
       "│ dense_3 (\u001b[38;5;33mDense\u001b[0m)      │ (\u001b[38;5;45mNone\u001b[0m, \u001b[38;5;34m3\u001b[0m)       │    \u001b[38;5;34m4,503\u001b[0m │\n",
       "└──────────────────────┴─────────────────┴──────────┘\n"
      ]
     },
     "metadata": {},
     "output_type": "display_data"
    },
    {
     "data": {
      "text/html": [
       "<pre style=\"white-space:pre;overflow-x:auto;line-height:normal;font-family:Menlo,'DejaVu Sans Mono',consolas,'Courier New',monospace\"><span style=\"font-weight: bold\"> Total params: </span><span style=\"color: #00af00; text-decoration-color: #00af00\">7,790,227</span> (29.72 MB)\n",
       "</pre>\n"
      ],
      "text/plain": [
       "\u001b[1m Total params: \u001b[0m\u001b[38;5;34m7,790,227\u001b[0m (29.72 MB)\n"
      ]
     },
     "metadata": {},
     "output_type": "display_data"
    },
    {
     "data": {
      "text/html": [
       "<pre style=\"white-space:pre;overflow-x:auto;line-height:normal;font-family:Menlo,'DejaVu Sans Mono',consolas,'Courier New',monospace\"><span style=\"font-weight: bold\"> Trainable params: </span><span style=\"color: #00af00; text-decoration-color: #00af00\">7,790,227</span> (29.72 MB)\n",
       "</pre>\n"
      ],
      "text/plain": [
       "\u001b[1m Trainable params: \u001b[0m\u001b[38;5;34m7,790,227\u001b[0m (29.72 MB)\n"
      ]
     },
     "metadata": {},
     "output_type": "display_data"
    },
    {
     "data": {
      "text/html": [
       "<pre style=\"white-space:pre;overflow-x:auto;line-height:normal;font-family:Menlo,'DejaVu Sans Mono',consolas,'Courier New',monospace\"><span style=\"font-weight: bold\"> Non-trainable params: </span><span style=\"color: #00af00; text-decoration-color: #00af00\">0</span> (0.00 B)\n",
       "</pre>\n"
      ],
      "text/plain": [
       "\u001b[1m Non-trainable params: \u001b[0m\u001b[38;5;34m0\u001b[0m (0.00 B)\n"
      ]
     },
     "metadata": {},
     "output_type": "display_data"
    }
   ],
   "source": [
    "model.summary()"
   ]
  },
  {
   "cell_type": "code",
   "execution_count": 12,
   "metadata": {},
   "outputs": [
    {
     "name": "stdout",
     "output_type": "stream",
     "text": [
      "Epoch 1/10\n",
      "\u001b[1m29/29\u001b[0m \u001b[32m━━━━━━━━━━━━━━━━━━━━\u001b[0m\u001b[37m\u001b[0m \u001b[1m18s\u001b[0m 521ms/step - accuracy: 0.3712 - loss: 1.5165 - val_accuracy: 0.7267 - val_loss: 0.6532\n",
      "Epoch 2/10\n",
      "\u001b[1m29/29\u001b[0m \u001b[32m━━━━━━━━━━━━━━━━━━━━\u001b[0m\u001b[37m\u001b[0m \u001b[1m15s\u001b[0m 501ms/step - accuracy: 0.6627 - loss: 0.6941 - val_accuracy: 0.7133 - val_loss: 0.5579\n",
      "Epoch 3/10\n",
      "\u001b[1m29/29\u001b[0m \u001b[32m━━━━━━━━━━━━━━━━━━━━\u001b[0m\u001b[37m\u001b[0m \u001b[1m18s\u001b[0m 637ms/step - accuracy: 0.7379 - loss: 0.5643 - val_accuracy: 0.8433 - val_loss: 0.4371\n",
      "Epoch 4/10\n",
      "\u001b[1m29/29\u001b[0m \u001b[32m━━━━━━━━━━━━━━━━━━━━\u001b[0m\u001b[37m\u001b[0m \u001b[1m20s\u001b[0m 682ms/step - accuracy: 0.7499 - loss: 0.5790 - val_accuracy: 0.8767 - val_loss: 0.2871\n",
      "Epoch 5/10\n",
      "\u001b[1m29/29\u001b[0m \u001b[32m━━━━━━━━━━━━━━━━━━━━\u001b[0m\u001b[37m\u001b[0m \u001b[1m14s\u001b[0m 488ms/step - accuracy: 0.8755 - loss: 0.2891 - val_accuracy: 0.9200 - val_loss: 0.2129\n",
      "Epoch 6/10\n",
      "\u001b[1m29/29\u001b[0m \u001b[32m━━━━━━━━━━━━━━━━━━━━\u001b[0m\u001b[37m\u001b[0m \u001b[1m15s\u001b[0m 504ms/step - accuracy: 0.9206 - loss: 0.2328 - val_accuracy: 0.9467 - val_loss: 0.1388\n",
      "Epoch 7/10\n",
      "\u001b[1m29/29\u001b[0m \u001b[32m━━━━━━━━━━━━━━━━━━━━\u001b[0m\u001b[37m\u001b[0m \u001b[1m20s\u001b[0m 682ms/step - accuracy: 0.8922 - loss: 0.2663 - val_accuracy: 0.8700 - val_loss: 0.3511\n",
      "Epoch 8/10\n",
      "\u001b[1m29/29\u001b[0m \u001b[32m━━━━━━━━━━━━━━━━━━━━\u001b[0m\u001b[37m\u001b[0m \u001b[1m18s\u001b[0m 621ms/step - accuracy: 0.9225 - loss: 0.2029 - val_accuracy: 0.9100 - val_loss: 0.2066\n",
      "Epoch 9/10\n",
      "\u001b[1m29/29\u001b[0m \u001b[32m━━━━━━━━━━━━━━━━━━━━\u001b[0m\u001b[37m\u001b[0m \u001b[1m21s\u001b[0m 735ms/step - accuracy: 0.9596 - loss: 0.1181 - val_accuracy: 0.9533 - val_loss: 0.1246\n",
      "Epoch 10/10\n",
      "\u001b[1m29/29\u001b[0m \u001b[32m━━━━━━━━━━━━━━━━━━━━\u001b[0m\u001b[37m\u001b[0m \u001b[1m20s\u001b[0m 694ms/step - accuracy: 0.9627 - loss: 0.0954 - val_accuracy: 0.9400 - val_loss: 0.1932\n"
     ]
    }
   ],
   "source": [
    "training_history = model.fit(x = training_set, validation_data = validation_set, epochs = 10)"
   ]
  },
  {
   "cell_type": "code",
   "execution_count": 25,
   "metadata": {},
   "outputs": [
    {
     "name": "stdout",
     "output_type": "stream",
     "text": [
      "Training history saved.\n"
     ]
    }
   ],
   "source": [
    "import pickle\n",
    "\n",
    "# Save the history object\n",
    "with open('training_history.pkl', 'wb') as file:\n",
    "    pickle.dump(training_history.history, file)\n",
    "print(\"Training history saved.\")"
   ]
  },
  {
   "cell_type": "markdown",
   "metadata": {},
   "source": [
    "### pickel to save 1st trained model\n",
    "### and model.save() to save 2nd trained model [ means saved different trained models using different techniques .]"
   ]
  },
  {
   "cell_type": "code",
   "execution_count": 13,
   "metadata": {},
   "outputs": [],
   "source": [
    "model.save('trained_plant_disease_model.keras')"
   ]
  },
  {
   "cell_type": "code",
   "execution_count": 2,
   "metadata": {},
   "outputs": [],
   "source": [
    "import tensorflow as tf\n",
    "from keras.models import load_model\n",
    "import pickle"
   ]
  },
  {
   "cell_type": "code",
   "execution_count": 3,
   "metadata": {},
   "outputs": [
    {
     "name": "stdout",
     "output_type": "stream",
     "text": [
      "Model saved as model.pkl\n"
     ]
    }
   ],
   "source": [
    "model = load_model('trained_plant_disease_model.keras')\n",
    "\n",
    "# Save the model using pickle\n",
    "with open('model.pkl', 'wb') as f:\n",
    "    pickle.dump(model, f)\n",
    "\n",
    "print(\"Model saved as model.pkl\")"
   ]
  },
  {
   "cell_type": "code",
   "execution_count": 4,
   "metadata": {},
   "outputs": [
    {
     "name": "stdout",
     "output_type": "stream",
     "text": [
      "Model compressed and saved as 'model_compressed.pkl.gz'\n"
     ]
    }
   ],
   "source": [
    "import pickle\n",
    "import gzip\n",
    "\n",
    "# Save the model as pickle (compressed using gzip)\n",
    "with open('model.pkl', 'rb') as f_in:\n",
    "    model = pickle.load(f_in)\n",
    "\n",
    "# Compress the model using gzip\n",
    "with gzip.open('model_compressed.pkl.gz', 'wb') as f_out:\n",
    "    pickle.dump(model, f_out)\n",
    "    \n",
    "print(\"Model compressed and saved as 'model_compressed.pkl.gz'\")\n"
   ]
  },
  {
   "cell_type": "code",
   "execution_count": null,
   "metadata": {},
   "outputs": [],
   "source": []
  },
  {
   "cell_type": "code",
   "execution_count": null,
   "metadata": {},
   "outputs": [],
   "source": []
  }
 ],
 "metadata": {
  "kernelspec": {
   "display_name": "Python 3 (ipykernel)",
   "language": "python",
   "name": "python3"
  },
  "language_info": {
   "codemirror_mode": {
    "name": "ipython",
    "version": 3
   },
   "file_extension": ".py",
   "mimetype": "text/x-python",
   "name": "python",
   "nbconvert_exporter": "python",
   "pygments_lexer": "ipython3",
   "version": "3.11.5"
  }
 },
 "nbformat": 4,
 "nbformat_minor": 4
}
